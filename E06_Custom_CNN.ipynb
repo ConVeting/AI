{
 "cells": [
  {
   "cell_type": "code",
   "execution_count": 1,
   "id": "97d0c270-be2c-4da6-8074-2081c7f59da3",
   "metadata": {
    "tags": []
   },
   "outputs": [],
   "source": [
    "import os\n",
    "import glob\n",
    "import numpy as np\n",
    "from PIL import Image\n",
    "from sklearn.model_selection import train_test_split\n",
    "import matplotlib.pyplot as plt\n",
    "import seaborn as sns\n",
    "import tensorflow as tf\n",
    "from tensorflow.keras.preprocessing.image import ImageDataGenerator\n",
    "from tensorflow.keras.models import Sequential\n",
    "from tensorflow.keras.layers import GlobalAveragePooling2D\n",
    "from tensorflow.keras.layers import Input, Conv2D, MaxPooling2D, Flatten, Dense, Dropout\n",
    "from tensorflow.keras.optimizers import Adam\n",
    "from tensorflow.keras.callbacks import EarlyStopping, ModelCheckpoint\n",
    "from sklearn.metrics import confusion_matrix, roc_curve, roc_auc_score\n",
    "from sklearn.metrics import accuracy_score, precision_score, recall_score, f1_score"
   ]
  },
  {
   "cell_type": "code",
   "execution_count": 2,
   "id": "2c17e5ca-9e2e-4647-9fe9-8c7e58538bd4",
   "metadata": {},
   "outputs": [],
   "source": [
    "user_name = 'sally'  # 윈도우 사용자 이름으로 변경하세요\n",
    "desktop_path = f'C:\\\\Users\\\\{user_name}\\\\OneDrive\\\\바탕 화면\\\\KSEB\\\\conveting\\\\AI_eye'"
   ]
  },
  {
   "cell_type": "code",
   "execution_count": 3,
   "id": "841a6af8-bc1c-42ab-bb4c-7d1eb24b3f20",
   "metadata": {},
   "outputs": [],
   "source": [
    "symptom = 'E06'\n",
    "\n",
    "# 이미지 경로 설정\n",
    "train_asym_img_path = os.path.join(desktop_path, f'train_asym_{symptom}')\n",
    "train_sym_img_path = os.path.join(desktop_path, f'train_sym_{symptom}')\n",
    "validation_asym_img_path = os.path.join(desktop_path, f'val_asym_{symptom}')\n",
    "validation_sym_img_path = os.path.join(desktop_path, f'val_sym_{symptom}')"
   ]
  },
  {
   "cell_type": "code",
   "execution_count": 4,
   "id": "bc8f772f-5c32-4abe-97e5-2c581c1ce5e2",
   "metadata": {},
   "outputs": [],
   "source": [
    "# 이미지 로드 및 라벨 생성 함수\n",
    "def load_images_and_labels(sym_paths, asym_paths):\n",
    "    images = []\n",
    "    labels = []\n",
    "    extensions = ['*.jpg', '*.jpeg', '*.png']  # 지원할 파일 확장자 목록\n",
    "\n",
    "    for path in sym_paths:\n",
    "        for ext in extensions:\n",
    "            sym_images = glob.glob(os.path.join(path, ext))\n",
    "            for image_path in sym_images:\n",
    "                img = np.array(Image.open(image_path).resize((224,224)))\n",
    "                images.append(img)\n",
    "                labels.append(1)  # 'sym' 라벨\n",
    "\n",
    "    for path in asym_paths:\n",
    "        for ext in extensions:\n",
    "            asym_images = glob.glob(os.path.join(path, ext))\n",
    "            for image_path in asym_images:\n",
    "                img = np.array(Image.open(image_path).resize((224,224)))\n",
    "                images.append(img)\n",
    "                labels.append(0)  # 'asym' 라벨\n",
    "\n",
    "    # 로드된 이미지와 라벨 개수 출력\n",
    "    print(f\"Loaded {len(images)} images and {len(labels)} labels.\")\n",
    "    \n",
    "    return np.array(images), np.array(labels)"
   ]
  },
  {
   "cell_type": "code",
   "execution_count": 5,
   "id": "38da175b-939d-4716-b029-0e911d2d5047",
   "metadata": {},
   "outputs": [
    {
     "name": "stdout",
     "output_type": "stream",
     "text": [
      "Loaded 9575 images and 9575 labels.\n",
      "Loaded 9599 images and 9599 labels.\n",
      "Loaded 1224 images and 1224 labels.\n",
      "Loaded 1200 images and 1200 labels.\n"
     ]
    }
   ],
   "source": [
    "# 훈련 및 검증 데이터 로드\n",
    "train_images_sym, train_labels_sym = load_images_and_labels([train_sym_img_path], [])\n",
    "train_images_asym, train_labels_asym = load_images_and_labels([], [train_asym_img_path])\n",
    "val_images_sym, val_labels_sym = load_images_and_labels([validation_sym_img_path], [])\n",
    "val_images_asym, val_labels_asym = load_images_and_labels([], [validation_asym_img_path])"
   ]
  },
  {
   "cell_type": "code",
   "execution_count": 6,
   "id": "a21600db-c0da-4a42-90ed-11ec55ae8af9",
   "metadata": {},
   "outputs": [],
   "source": [
    "# sym 파일과 asym 파일 각각 결합\n",
    "sym_images = np.concatenate([train_images_sym, val_images_sym], axis=0)\n",
    "sym_labels = np.concatenate([train_labels_sym, val_labels_sym], axis=0)\n",
    "asym_images = np.concatenate([train_images_asym, val_images_asym], axis=0)\n",
    "asym_labels = np.concatenate([train_labels_asym, val_labels_asym], axis=0)"
   ]
  },
  {
   "cell_type": "code",
   "execution_count": 7,
   "id": "74a004c0-65ba-4eeb-8d53-97959806c932",
   "metadata": {},
   "outputs": [
    {
     "name": "stdout",
     "output_type": "stream",
     "text": [
      "Symptomatic images: 10799\n",
      "Asymptomatic images: 10799\n"
     ]
    }
   ],
   "source": [
    "# sym과 asym 개수 세기\n",
    "sym_count = len(sym_labels)\n",
    "asym_count = len(asym_labels)\n",
    "\n",
    "# 데이터 개수 출력\n",
    "print(f\"Symptomatic images: {sym_count}\")\n",
    "print(f\"Asymptomatic images: {asym_count}\")"
   ]
  },
  {
   "cell_type": "code",
   "execution_count": 8,
   "id": "08aceafd-af94-4ab9-8ca2-aadb2431faec",
   "metadata": {},
   "outputs": [],
   "source": [
    "# 부족한 클래스에 맞춰 데이터 증강\n",
    "datagen = ImageDataGenerator(\n",
    "    rotation_range=20,\n",
    "    width_shift_range=0.2,\n",
    "    height_shift_range=0.2,\n",
    "    shear_range=0.2,\n",
    "    zoom_range=0.2,\n",
    "    horizontal_flip=True,\n",
    "    fill_mode='nearest'\n",
    ")\n",
    "\n",
    "if sym_count < asym_count:\n",
    "    augmentation_target = sym_images\n",
    "    augmentation_target_label = 1\n",
    "    target_count = asym_count\n",
    "else:\n",
    "    augmentation_target = asym_images\n",
    "    augmentation_target_label = 0\n",
    "    target_count = sym_count\n",
    "\n",
    "augmented_images = []\n",
    "augmented_labels = []\n",
    "\n",
    "for img in augmentation_target:\n",
    "    img = img.reshape((1,) + img.shape)  # (1, 224, 224, 3) 형태로 변환\n",
    "    i = 0\n",
    "    for batch in datagen.flow(img, batch_size=1):\n",
    "        augmented_images.append(batch[0].astype(np.uint8))  # 메모리 절약을 위해 dtype 변경\n",
    "        augmented_labels.append(augmentation_target_label)\n",
    "        i += 1\n",
    "        if len(augmented_labels) + len(augmentation_target) >= target_count:\n",
    "            break"
   ]
  },
  {
   "cell_type": "code",
   "execution_count": 9,
   "id": "015a9328-cd84-496e-a588-31e4e42447a1",
   "metadata": {},
   "outputs": [],
   "source": [
    "# 증강된 데이터와 원본 데이터 결합\n",
    "augmented_images = np.array(augmented_images)\n",
    "augmented_labels = np.array(augmented_labels)\n",
    "\n",
    "if augmentation_target_label == 1:\n",
    "    sym_images = np.concatenate([sym_images, augmented_images], axis=0)\n",
    "    sym_labels = np.concatenate([sym_labels, augmented_labels], axis=0)\n",
    "else:\n",
    "    asym_images = np.concatenate([asym_images, augmented_images], axis=0)\n",
    "    asym_labels = np.concatenate([asym_labels, augmented_labels], axis=0)"
   ]
  },
  {
   "cell_type": "code",
   "execution_count": 10,
   "id": "67c7873d-a6db-41ab-84da-b1b964dad3fa",
   "metadata": {},
   "outputs": [],
   "source": [
    "# 결합된 최종 데이터셋\n",
    "images = np.concatenate([sym_images, asym_images], axis=0)\n",
    "labels = np.concatenate([sym_labels, asym_labels], axis=0)"
   ]
  },
  {
   "cell_type": "code",
   "execution_count": 11,
   "id": "61fabf78-a961-47cb-acb7-c908a1a9f568",
   "metadata": {},
   "outputs": [],
   "source": [
    "# 데이터를 8:2 비율로 train과 test로 나누기\n",
    "X_train_val, X_test, y_train_val, y_test = train_test_split(images, labels, test_size=0.2, random_state=42, stratify=labels)\n",
    "\n",
    "# train_val 데이터를 3:1 비율로 train과 validation으로 나누기 (전체 데이터의 6:2:2 비율)\n",
    "X_train, X_val, y_train, y_val = train_test_split(X_train_val, y_train_val, test_size=0.25, random_state=42, stratify=y_train_val)"
   ]
  },
  {
   "cell_type": "code",
   "execution_count": 12,
   "id": "14d1c9eb-d808-4d10-b294-c1f72b91285e",
   "metadata": {},
   "outputs": [],
   "source": [
    "def normalize_batch(data, batch_size):\n",
    "    num_batches = int(np.ceil(len(data) / batch_size))\n",
    "    for i in range(num_batches):\n",
    "        start = i * batch_size\n",
    "        end = min((i + 1) * batch_size, len(data))\n",
    "        data[start:end] = data[start:end] / 255.0\n",
    "\n",
    "# 배치 사이즈 설정\n",
    "batch_size = 1000\n",
    "\n",
    "# 데이터 정규화\n",
    "normalize_batch(X_train, batch_size)\n",
    "normalize_batch(X_val, batch_size)\n",
    "normalize_batch(X_test, batch_size)"
   ]
  },
  {
   "cell_type": "code",
   "execution_count": 13,
   "id": "9bc09420-d53d-4916-9522-ebfd1cbce78f",
   "metadata": {},
   "outputs": [
    {
     "name": "stderr",
     "output_type": "stream",
     "text": [
      "C:\\Users\\sally\\anaconda3\\Lib\\site-packages\\keras\\src\\layers\\convolutional\\base_conv.py:107: UserWarning: Do not pass an `input_shape`/`input_dim` argument to a layer. When using Sequential models, prefer using an `Input(shape)` object as the first layer in the model instead.\n",
      "  super().__init__(activity_regularizer=activity_regularizer, **kwargs)\n"
     ]
    }
   ],
   "source": [
    "model = Sequential([\n",
    "    Conv2D(32, (3, 3), activation='relu', input_shape=(224, 224, 3)),  # conv_1_filter=32, conv_1_kernel=3\n",
    "    MaxPooling2D((2, 2)),\n",
    "    Conv2D(64, (5, 5), activation='relu'),  # conv_2_filter=64, conv_2_kernel=5\n",
    "    MaxPooling2D((2, 2)),\n",
    "    Conv2D(64, (5, 5), activation='relu'),  # conv_3_filter=64, conv_3_kernel=5\n",
    "    MaxPooling2D((2, 2)),\n",
    "    Conv2D(32, (3, 3), activation='relu'),  # conv_4_filter=32, conv_4_kernel=3\n",
    "    GlobalAveragePooling2D(),\n",
    "    Dense(128, activation='relu'),  # dense_units=128\n",
    "    Dropout(0.3),  # dropout=0.3\n",
    "    Dense(1, activation='sigmoid')  # 이진 분류를 위해 출력 노드 수를 1로 설정하고, 활성화 함수를 sigmoid로 설정\n",
    "])"
   ]
  },
  {
   "cell_type": "code",
   "execution_count": 14,
   "id": "0497df28-4128-4932-bb4c-427b0804b084",
   "metadata": {},
   "outputs": [],
   "source": [
    "# 모델 컴파일\n",
    "model.compile(optimizer=Adam(learning_rate=0.001), loss='binary_crossentropy', metrics=['accuracy'])"
   ]
  },
  {
   "cell_type": "code",
   "execution_count": 15,
   "id": "f9533f68-f0fb-4d0a-9a8c-430a148754fa",
   "metadata": {},
   "outputs": [
    {
     "name": "stdout",
     "output_type": "stream",
     "text": [
      "Epoch 1/10\n",
      "\u001b[1m608/608\u001b[0m \u001b[32m━━━━━━━━━━━━━━━━━━━━\u001b[0m\u001b[37m\u001b[0m \u001b[1m578s\u001b[0m 945ms/step - accuracy: 0.7983 - loss: 0.4701 - val_accuracy: 0.8258 - val_loss: 0.3929\n",
      "Epoch 2/10\n",
      "\u001b[1m608/608\u001b[0m \u001b[32m━━━━━━━━━━━━━━━━━━━━\u001b[0m\u001b[37m\u001b[0m \u001b[1m561s\u001b[0m 923ms/step - accuracy: 0.8384 - loss: 0.3757 - val_accuracy: 0.8309 - val_loss: 0.3776\n",
      "Epoch 3/10\n",
      "\u001b[1m608/608\u001b[0m \u001b[32m━━━━━━━━━━━━━━━━━━━━\u001b[0m\u001b[37m\u001b[0m \u001b[1m570s\u001b[0m 938ms/step - accuracy: 0.8406 - loss: 0.3743 - val_accuracy: 0.8366 - val_loss: 0.3806\n",
      "Epoch 4/10\n",
      "\u001b[1m608/608\u001b[0m \u001b[32m━━━━━━━━━━━━━━━━━━━━\u001b[0m\u001b[37m\u001b[0m \u001b[1m564s\u001b[0m 927ms/step - accuracy: 0.8447 - loss: 0.3647 - val_accuracy: 0.8375 - val_loss: 0.3735\n",
      "Epoch 5/10\n",
      "\u001b[1m608/608\u001b[0m \u001b[32m━━━━━━━━━━━━━━━━━━━━\u001b[0m\u001b[37m\u001b[0m \u001b[1m558s\u001b[0m 918ms/step - accuracy: 0.8483 - loss: 0.3600 - val_accuracy: 0.8377 - val_loss: 0.3707\n",
      "Epoch 6/10\n",
      "\u001b[1m608/608\u001b[0m \u001b[32m━━━━━━━━━━━━━━━━━━━━\u001b[0m\u001b[37m\u001b[0m \u001b[1m585s\u001b[0m 962ms/step - accuracy: 0.8534 - loss: 0.3501 - val_accuracy: 0.8398 - val_loss: 0.3679\n",
      "Epoch 7/10\n",
      "\u001b[1m608/608\u001b[0m \u001b[32m━━━━━━━━━━━━━━━━━━━━\u001b[0m\u001b[37m\u001b[0m \u001b[1m603s\u001b[0m 991ms/step - accuracy: 0.8577 - loss: 0.3464 - val_accuracy: 0.8427 - val_loss: 0.3666\n",
      "Epoch 8/10\n",
      "\u001b[1m608/608\u001b[0m \u001b[32m━━━━━━━━━━━━━━━━━━━━\u001b[0m\u001b[37m\u001b[0m \u001b[1m587s\u001b[0m 965ms/step - accuracy: 0.8593 - loss: 0.3410 - val_accuracy: 0.8443 - val_loss: 0.3636\n",
      "Epoch 9/10\n",
      "\u001b[1m608/608\u001b[0m \u001b[32m━━━━━━━━━━━━━━━━━━━━\u001b[0m\u001b[37m\u001b[0m \u001b[1m544s\u001b[0m 895ms/step - accuracy: 0.8614 - loss: 0.3387 - val_accuracy: 0.8431 - val_loss: 0.3698\n",
      "Epoch 10/10\n",
      "\u001b[1m608/608\u001b[0m \u001b[32m━━━━━━━━━━━━━━━━━━━━\u001b[0m\u001b[37m\u001b[0m \u001b[1m675s\u001b[0m 1s/step - accuracy: 0.8642 - loss: 0.3303 - val_accuracy: 0.8427 - val_loss: 0.3662\n",
      "\u001b[1m203/203\u001b[0m \u001b[32m━━━━━━━━━━━━━━━━━━━━\u001b[0m\u001b[37m\u001b[0m \u001b[1m96s\u001b[0m 473ms/step - accuracy: 0.8490 - loss: 0.3601\n",
      "Test accuracy: 0.8492283821105957\n"
     ]
    }
   ],
   "source": [
    "# 모델 훈련\n",
    "history = model.fit(X_train, y_train, epochs=10, batch_size=32, validation_data=(X_val, y_val))\n",
    "\n",
    "# 테스트 데이터셋을 사용하여 최종 모델 평가\n",
    "test_score = model.evaluate(X_test, y_test)\n",
    "print(f'Test accuracy: {test_score[1]}')"
   ]
  },
  {
   "cell_type": "code",
   "execution_count": 16,
   "id": "0a4801b8-3b73-4835-bd50-367c55572177",
   "metadata": {},
   "outputs": [
    {
     "name": "stdout",
     "output_type": "stream",
     "text": [
      "Model saved as E6_efficientnet_model.keras\n"
     ]
    }
   ],
   "source": [
    "# 모델 저장\n",
    "model.save('E6_resnet_model.keras', include_optimizer=True)\n",
    "print(\"Model saved as E6_efficientnet_model.keras\")"
   ]
  },
  {
   "cell_type": "code",
   "execution_count": 17,
   "id": "0f4c081e-28f9-4e92-98a7-23007dc61c8e",
   "metadata": {},
   "outputs": [
    {
     "data": {
      "image/png": "[encoded data removed]",
      "text/plain": [
       "<Figure size 1200x500 with 2 Axes>"
      ]
     },
     "metadata": {},
     "output_type": "display_data"
    }
   ],
   "source": [
    "# 훈련 및 검증 손실 플로팅\n",
    "plt.figure(figsize=(12, 5))\n",
    "\n",
    "plt.subplot(1, 2, 1)\n",
    "plt.plot(history.history['loss'], label='Train Loss')\n",
    "plt.plot(history.history['val_loss'], label='Validation Loss')\n",
    "plt.title('Loss Over Epochs')\n",
    "plt.xlabel('Epochs')\n",
    "plt.ylabel('Loss')\n",
    "plt.legend()\n",
    "\n",
    "# 훈련 및 검증 정확도 플로팅\n",
    "plt.subplot(1, 2, 2)\n",
    "plt.plot(history.history['accuracy'], label='Train Accuracy')\n",
    "plt.plot(history.history['val_accuracy'], label='Validation Accuracy')\n",
    "plt.title('Accuracy Over Epochs')\n",
    "plt.xlabel('Epochs')\n",
    "plt.ylabel('Accuracy')\n",
    "plt.legend()\n",
    "\n",
    "# 그래프를 파일로 저장\n",
    "plt.savefig('E6_training_validation_loss_accuracy.png')\n",
    "plt.show()"
   ]
  },
  {
   "cell_type": "code",
   "execution_count": null,
   "id": "e581d1f1-2a01-409f-a46b-8a41dc974b9a",
   "metadata": {},
   "outputs": [
    {
     "name": "stdout",
     "output_type": "stream",
     "text": [
      "\u001b[1m177/203\u001b[0m \u001b[32m━━━━━━━━━━━━━━━━━\u001b[0m\u001b[37m━━━\u001b[0m \u001b[1m12s\u001b[0m 465ms/step"
     ]
    }
   ],
   "source": [
    "# 예측값 계산\n",
    "y_pred_prob = model.predict(X_test)\n",
    "y_pred = (y_pred_prob > 0.5).astype(\"int32\")"
   ]
  },
  {
   "cell_type": "code",
   "execution_count": null,
   "id": "8ddbd3ea-ebfe-498c-a94d-e3a4d50cc828",
   "metadata": {},
   "outputs": [],
   "source": [
    "# 혼동 행렬 계산\n",
    "conf_matrix = confusion_matrix(y_test, y_pred)\n",
    "\n",
    "# 혼동 행렬 시각화\n",
    "plt.figure(figsize=(8, 6))\n",
    "sns.heatmap(conf_matrix, annot=True, fmt='d', cmap='Blues', xticklabels=['Predicted 0', 'Predicted 1'], yticklabels=['Actual 0', 'Actual 1'])\n",
    "plt.xlabel('Predicted Labels')\n",
    "plt.ylabel('True Labels')\n",
    "plt.title('Confusion Matrix')\n",
    "\n",
    "# 그래프를 파일로 저장\n",
    "plt.savefig('E6_confusion_matrix.png')\n",
    "plt.show()"
   ]
  },
  {
   "cell_type": "code",
   "execution_count": null,
   "id": "313ef57b-e457-4ed6-81a9-cfeb1a59259d",
   "metadata": {},
   "outputs": [],
   "source": [
    "# 개별 지표 계산\n",
    "accuracy = accuracy_score(y_test, y_pred)\n",
    "precision = precision_score(y_test, y_pred)\n",
    "recall = recall_score(y_test, y_pred)\n",
    "f1 = f1_score(y_test, y_pred)\n",
    "\n",
    "print(f'Accuracy: {accuracy}')\n",
    "print(f'Precision: {precision}')\n",
    "print(f'Recall: {recall}')\n",
    "print(f'F1 Score: {f1}')"
   ]
  },
  {
   "cell_type": "code",
   "execution_count": null,
   "id": "576c5701-f3ce-49d5-afef-364383633ff0",
   "metadata": {},
   "outputs": [],
   "source": [
    "# ROC Curve 및 AUC 계산\n",
    "fpr, tpr, thresholds = roc_curve(y_test, y_pred_prob)\n",
    "auc = roc_auc_score(y_test, y_pred_prob)\n",
    "\n",
    "print(f'AUC Score: {auc}')"
   ]
  },
  {
   "cell_type": "code",
   "execution_count": null,
   "id": "4937188a-93b7-4b1e-bf05-4d768733442a",
   "metadata": {},
   "outputs": [],
   "source": []
  }
 ],
 "metadata": {
  "kernelspec": {
   "display_name": "Python 3 (ipykernel)",
   "language": "python",
   "name": "python3"
  },
  "language_info": {
   "codemirror_mode": {
    "name": "ipython",
    "version": 3
   },
   "file_extension": ".py",
   "mimetype": "text/x-python",
   "name": "python",
   "nbconvert_exporter": "python",
   "pygments_lexer": "ipython3",
   "version": "3.11.5"
  }
 },
 "nbformat": 4,
 "nbformat_minor": 5
}
