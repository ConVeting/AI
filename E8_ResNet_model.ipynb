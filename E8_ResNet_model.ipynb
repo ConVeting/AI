{
 "cells": [
  {
   "cell_type": "code",
   "execution_count": 1,
   "id": "37280e12-8e39-44b6-aac5-4d57f2308a9e",
   "metadata": {},
   "outputs": [],
   "source": [
    "import os\n",
    "import glob\n",
    "import numpy as np\n",
    "from PIL import Image\n",
    "from sklearn.model_selection import train_test_split\n",
    "from sklearn.metrics import confusion_matrix, classification_report, accuracy_score, precision_score, recall_score, f1_score, roc_curve, roc_auc_score\n",
    "import matplotlib.pyplot as plt\n",
    "from tensorflow.keras.applications import ResNet50\n",
    "from tensorflow.keras.layers import Dense, GlobalAveragePooling2D\n",
    "from tensorflow.keras.models import Model\n",
    "from tensorflow.keras.optimizers import Adam\n",
    "from tensorflow.keras.preprocessing.image import ImageDataGenerator"
   ]
  },
  {
   "cell_type": "code",
   "execution_count": 2,
   "id": "d6c5e735-dcdf-4a91-825f-e23e080cce23",
   "metadata": {},
   "outputs": [],
   "source": [
    "user_name = 'sjs70'  # 윈도우 사용자 이름으로 변경하세요\n",
    "desktop_path = f'C:\\\\Users\\\\{user_name}\\\\Downloads\\\\dog_eye'"
   ]
  },
  {
   "cell_type": "code",
   "execution_count": 3,
   "id": "6fd5b7ea-4403-4e3b-b220-52ff3444bc0a",
   "metadata": {},
   "outputs": [],
   "source": [
    "symptom = 'E8'\n",
    "\n",
    "# 이미지 경로 설정\n",
    "train_asym_img_path = os.path.join(desktop_path, f'seg_train\\\\asym\\\\{symptom}')\n",
    "train_sym_img_path = os.path.join(desktop_path, f'seg_train\\\\sym\\\\{symptom}')\n",
    "validation_asym_img_path = os.path.join(desktop_path, f'seg_validation\\\\asym\\\\{symptom}')\n",
    "validation_sym_img_path = os.path.join(desktop_path, f'seg_validation\\\\sym\\\\{symptom}')"
   ]
  },
  {
   "cell_type": "code",
   "execution_count": 4,
   "id": "74d02a19-3eb4-48b0-9739-dc5929b148fc",
   "metadata": {},
   "outputs": [],
   "source": [
    "# 이미지 로드 및 라벨 생성 함수\n",
    "def load_images_and_labels(sym_paths, asym_paths):\n",
    "    images = []\n",
    "    labels = []\n",
    "    extensions = ['*.jpg', '*.jpeg', '*.png']  # 지원할 파일 확장자 목록\n",
    "\n",
    "    for path in sym_paths:\n",
    "        for ext in extensions:\n",
    "            sym_images = glob.glob(os.path.join(path, ext))\n",
    "            for image_path in sym_images:\n",
    "                img = np.array(Image.open(image_path).resize((224,224)))\n",
    "                images.append(img)\n",
    "                labels.append(1)  # 'sym' 라벨\n",
    "\n",
    "    for path in asym_paths:\n",
    "        for ext in extensions:\n",
    "            asym_images = glob.glob(os.path.join(path, ext))\n",
    "            for image_path in asym_images:\n",
    "                img = np.array(Image.open(image_path).resize((224,224)))\n",
    "                images.append(img)\n",
    "                labels.append(0)  # 'asym' 라벨\n",
    "\n",
    "    # 로드된 이미지와 라벨 개수 출력\n",
    "    print(f\"Loaded {len(images)} images and {len(labels)} labels.\")\n",
    "    \n",
    "    return np.array(images), np.array(labels)"
   ]
  },
  {
   "cell_type": "code",
   "execution_count": null,
   "id": "cdde1cbb-fdc0-417a-81fc-88439804c03f",
   "metadata": {},
   "outputs": [],
   "source": [
    "# 훈련 및 검증 데이터 로드\n",
    "train_images_sym, train_labels_sym = load_images_and_labels([train_sym_img_path], [])\n",
    "train_images_asym, train_labels_asym = load_images_and_labels([], [train_asym_img_path])\n",
    "val_images_sym, val_labels_sym = load_images_and_labels([validation_sym_img_path], [])\n",
    "val_images_asym, val_labels_asym = load_images_and_labels([], [validation_asym_img_path])"
   ]
  },
  {
   "cell_type": "code",
   "execution_count": 6,
   "id": "a583ab59-ae02-473a-8d80-5e1164c96762",
   "metadata": {},
   "outputs": [],
   "source": [
    "# sym 파일과 asym 파일 각각 결합\n",
    "sym_images = np.concatenate([train_images_sym, val_images_sym], axis=0)\n",
    "sym_labels = np.concatenate([train_labels_sym, val_labels_sym], axis=0)\n",
    "asym_images = np.concatenate([train_images_asym, val_images_asym], axis=0)\n",
    "asym_labels = np.concatenate([train_labels_asym, val_labels_asym], axis=0)"
   ]
  },
  {
   "cell_type": "code",
   "execution_count": null,
   "id": "15f90c56-c14c-4b1f-ae70-789c2150a5bf",
   "metadata": {},
   "outputs": [],
   "source": [
    "# sym과 asym 개수 세기\n",
    "sym_count = len(sym_labels)\n",
    "asym_count = len(asym_labels)\n",
    "\n",
    "# 데이터 개수 출력\n",
    "print(f\"Symptomatic images: {sym_count}\")\n",
    "print(f\"Asymptomatic images: {asym_count}\")"
   ]
  },
  {
   "cell_type": "code",
   "execution_count": 8,
   "id": "68c5b30e-97e9-48a3-8333-a64a41ce6b9b",
   "metadata": {},
   "outputs": [],
   "source": [
    "# 부족한 클래스에 맞춰 데이터 증강\n",
    "datagen = ImageDataGenerator(\n",
    "    rotation_range=20,\n",
    "    width_shift_range=0.2,\n",
    "    height_shift_range=0.2,\n",
    "    shear_range=0.2,\n",
    "    zoom_range=0.2,\n",
    "    horizontal_flip=True,\n",
    "    fill_mode='nearest'\n",
    ")\n",
    "\n",
    "if sym_count < asym_count:\n",
    "    augmentation_target = sym_images\n",
    "    augmentation_target_label = 1\n",
    "    target_count = asym_count\n",
    "else:\n",
    "    augmentation_target = asym_images\n",
    "    augmentation_target_label = 0\n",
    "    target_count = sym_count\n",
    "\n",
    "augmented_images = []\n",
    "augmented_labels = []\n",
    "\n",
    "for img in augmentation_target:\n",
    "    img = img.reshape((1,) + img.shape)  # (1, 224, 224, 3) 형태로 변환\n",
    "    i = 0\n",
    "    for batch in datagen.flow(img, batch_size=1):\n",
    "        augmented_images.append(batch[0])\n",
    "        augmented_labels.append(augmentation_target_label)\n",
    "        i += 1\n",
    "        if len(augmented_labels) + len(augmentation_target) >= target_count:\n",
    "            break"
   ]
  },
  {
   "cell_type": "code",
   "execution_count": 9,
   "id": "f759a3e6-ee04-47bc-b5f4-ffef22f08204",
   "metadata": {},
   "outputs": [],
   "source": [
    "# 증강된 데이터와 원본 데이터 결합\n",
    "augmented_images = np.array(augmented_images)\n",
    "augmented_labels = np.array(augmented_labels)\n",
    "\n",
    "if augmentation_target_label == 1:\n",
    "    sym_images = np.concatenate([sym_images, augmented_images], axis=0)\n",
    "    sym_labels = np.concatenate([sym_labels, augmented_labels], axis=0)\n",
    "else:\n",
    "    asym_images = np.concatenate([asym_images, augmented_images], axis=0)\n",
    "    asym_labels = np.concatenate([asym_labels, augmented_labels], axis=0)"
   ]
  },
  {
   "cell_type": "code",
   "execution_count": 10,
   "id": "936d6a1f-f3be-42b5-a8f6-b0382c8f97e5",
   "metadata": {},
   "outputs": [],
   "source": [
    "# 결합된 최종 데이터셋\n",
    "images = np.concatenate([sym_images, asym_images], axis=0)\n",
    "labels = np.concatenate([sym_labels, asym_labels], axis=0)"
   ]
  },
  {
   "cell_type": "code",
   "execution_count": null,
   "id": "e4f9b0ab-5750-4f6d-8012-cfe0dbdacd92",
   "metadata": {},
   "outputs": [],
   "source": [
    "# 데이터를 8:2 비율로 train과 test로 나누기\n",
    "X_train_val, X_test, y_train_val, y_test = train_test_split(images, labels, test_size=0.2, random_state=42, stratify=labels)\n",
    "\n",
    "# train_val 데이터를 3:1 비율로 train과 validation으로 나누기 (전체 데이터의 6:2:2 비율)\n",
    "X_train, X_val, y_train, y_val = train_test_split(X_train_val, y_train_val, test_size=0.25, random_state=42, stratify=y_train_val)"
   ]
  },
  {
   "cell_type": "code",
   "execution_count": null,
   "id": "47ed83e3-bb91-480d-9277-56d5c43572c1",
   "metadata": {},
   "outputs": [],
   "source": [
    "# 데이터 정규화\n",
    "X_train = X_train / 255.0\n",
    "X_val = X_val / 255.0\n",
    "X_test = X_test / 255.0"
   ]
  },
  {
   "cell_type": "code",
   "execution_count": null,
   "id": "7d20b328-b6a4-4922-a8ca-3d973a2dec4f",
   "metadata": {},
   "outputs": [],
   "source": [
    "# 모델 정의\n",
    "base_model = ResNet50(weights='imagenet', include_top=False, input_shape=(224, 224, 3))\n",
    "x = base_model.output\n",
    "x = GlobalAveragePooling2D()(x)\n",
    "x = Dense(1024, activation='relu')(x)\n",
    "predictions = Dense(1, activation='sigmoid')(x)\n",
    "\n",
    "model = Model(inputs=base_model.input, outputs=predictions)\n",
    "\n",
    "for layer in base_model.layers:\n",
    "    layer.trainable = False\n",
    "\n",
    "model.compile(optimizer=Adam(learning_rate=0.001), loss='binary_crossentropy', metrics=['accuracy'])"
   ]
  },
  {
   "cell_type": "code",
   "execution_count": null,
   "id": "0f0b4dc6-2e87-4430-a7a0-35c9871167e6",
   "metadata": {},
   "outputs": [],
   "source": [
    "# 모델 훈련\n",
    "history = model.fit(X_train, y_train,\n",
    "          validation_data=(X_val, y_val),\n",
    "          epochs=10,\n",
    "          batch_size=32)\n",
    "\n",
    "# 모델 평가\n",
    "score = model.evaluate(X_test, y_test)\n",
    "print(f'Test accuracy: {score[1]}')"
   ]
  },
  {
   "cell_type": "code",
   "execution_count": null,
   "id": "f97540f8-b055-4b58-bd82-8227fe341d47",
   "metadata": {},
   "outputs": [],
   "source": [
    "# 모델 저장\n",
    "model.save('E8_resnet_model.keras', include_optimizer=True)\n",
    "print(\"Model saved as E8_resnet_model.keras\")"
   ]
  },
  {
   "cell_type": "code",
   "execution_count": null,
   "id": "8434fa72-ecd0-4dff-9a43-c6f067340519",
   "metadata": {},
   "outputs": [],
   "source": [
    "# 훈련 및 검증 손실 플로팅\n",
    "plt.figure(figsize=(12, 5))\n",
    "\n",
    "plt.subplot(1, 2, 1)\n",
    "plt.plot(history.history['loss'], label='Train Loss')\n",
    "plt.plot(history.history['val_loss'], label='Validation Loss')\n",
    "plt.title('Loss Over Epochs')\n",
    "plt.xlabel('Epochs')\n",
    "plt.ylabel('Loss')\n",
    "plt.legend()\n",
    "\n",
    "# 훈련 및 검증 정확도 플로팅\n",
    "plt.subplot(1, 2, 2)\n",
    "plt.plot(history.history['accuracy'], label='Train Accuracy')\n",
    "plt.plot(history.history['val_accuracy'], label='Validation Accuracy')\n",
    "plt.title('Accuracy Over Epochs')\n",
    "plt.xlabel('Epochs')\n",
    "plt.ylabel('Accuracy')\n",
    "plt.legend()\n",
    "\n",
    "# 그래프를 파일로 저장\n",
    "plt.savefig('E8_training_validation_loss_accuracy.png')\n",
    "plt.show()"
   ]
  },
  {
   "cell_type": "code",
   "execution_count": null,
   "id": "9706cf44-df51-4863-826a-6d4b7069f50a",
   "metadata": {},
   "outputs": [],
   "source": [
    "# 예측값 계산\n",
    "y_pred_prob = model.predict(X_test)\n",
    "y_pred = (y_pred_prob > 0.5).astype(\"int32\")"
   ]
  },
  {
   "cell_type": "code",
   "execution_count": null,
   "id": "90bcd72f-6883-4e5e-8f18-afbae1b4b015",
   "metadata": {},
   "outputs": [],
   "source": [
    "# 혼동 행렬 계산\n",
    "conf_matrix = confusion_matrix(y_test, y_pred)\n",
    "\n",
    "# 혼동 행렬 시각화\n",
    "plt.figure(figsize=(8, 6))\n",
    "sns.heatmap(conf_matrix, annot=True, fmt='d', cmap='Blues', xticklabels=['Predicted 0', 'Predicted 1'], yticklabels=['Actual 0', 'Actual 1'])\n",
    "plt.xlabel('Predicted Labels')\n",
    "plt.ylabel('True Labels')\n",
    "plt.title('Confusion Matrix')\n",
    "\n",
    "# 그래프를 파일로 저장\n",
    "plt.savefig('E8_confusion_matrix.png')\n",
    "plt.show()"
   ]
  },
  {
   "cell_type": "code",
   "execution_count": null,
   "id": "b69d4ae0-dee7-496e-9713-ec788bdef54c",
   "metadata": {},
   "outputs": [],
   "source": [
    "# 개별 지표 계산\n",
    "accuracy = accuracy_score(y_test, y_pred)\n",
    "precision = precision_score(y_test, y_pred)\n",
    "recall = recall_score(y_test, y_pred)\n",
    "f1 = f1_score(y_test, y_pred)\n",
    "\n",
    "print(f'Accuracy: {accuracy}')\n",
    "print(f'Precision: {precision}')\n",
    "print(f'Recall: {recall}')\n",
    "print(f'F1 Score: {f1}')"
   ]
  },
  {
   "cell_type": "code",
   "execution_count": null,
   "id": "feb2eb2b-4cfd-47ee-b696-9885f1f026b5",
   "metadata": {},
   "outputs": [],
   "source": [
    "# ROC Curve 및 AUC 계산\n",
    "fpr, tpr, thresholds = roc_curve(y_test, y_pred_prob)\n",
    "auc = roc_auc_score(y_test, y_pred_prob)\n",
    "\n",
    "print(f'AUC Score: {auc}')"
   ]
  },
  {
   "cell_type": "code",
   "execution_count": null,
   "id": "5f62f15a-210d-42fd-b597-ecf8d9ece6fa",
   "metadata": {},
   "outputs": [],
   "source": [
    "# ROC Curve 시각화\n",
    "plt.figure()\n",
    "plt.plot(fpr, tpr, color='blue', lw=2, label=f'ROC curve (area = {auc:.2f})')\n",
    "plt.plot([0, 1], [0, 1], color='gray', lw=2, linestyle='--')\n",
    "plt.xlim([0.0, 1.0])\n",
    "plt.ylim([0.0, 1.05])\n",
    "plt.xlabel('False Positive Rate')\n",
    "plt.ylabel('True Positive Rate')\n",
    "plt.title('Receiver Operating Characteristic (ROC) Curve')\n",
    "plt.legend(loc=\"lower right\")\n",
    "\n",
    "# 그래프를 파일로 저장\n",
    "plt.savefig('E4_ROC Curve.png')\n",
    "plt.show()"
   ]
  }
 ],
 "metadata": {
  "kernelspec": {
   "display_name": "Python 3 (ipykernel)",
   "language": "python",
   "name": "python3"
  },
  "language_info": {
   "codemirror_mode": {
    "name": "ipython",
    "version": 3
   },
   "file_extension": ".py",
   "mimetype": "text/x-python",
   "name": "python",
   "nbconvert_exporter": "python",
   "pygments_lexer": "ipython3",
   "version": "3.12.4"
  }
 },
 "nbformat": 4,
 "nbformat_minor": 5
}
